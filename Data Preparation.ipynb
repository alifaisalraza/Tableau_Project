{
 "cells": [
  {
   "cell_type": "markdown",
   "metadata": {},
   "source": [
    "# weekly_earnings"
   ]
  },
  {
   "cell_type": "markdown",
   "metadata": {},
   "source": [
    "Send a request to CityBikes for the city of your choice. "
   ]
  },
  {
   "cell_type": "code",
   "execution_count": 2,
   "metadata": {},
   "outputs": [],
   "source": [
    "import json\n",
    "import pandas as pd\n",
    "import warnings\n",
    "warnings.filterwarnings('ignore')"
   ]
  },
  {
   "cell_type": "code",
   "execution_count": 79,
   "metadata": {},
   "outputs": [],
   "source": [
    "with open(\"weekly_earnings.json\", \"r\") as read_file:\n",
    "    result = json.load(read_file)"
   ]
  },
  {
   "cell_type": "code",
   "execution_count": 128,
   "metadata": {},
   "outputs": [],
   "source": [
    "#read weekly earnings from json file and consolidate into csv format to act as data source\n",
    "#for earnings vs housing prices trend comparison.\n",
    "list_of_columns = []\n",
    "dict_of_columns = result['meta']['view']['columns']\n",
    "for x in dict_of_columns:\n",
    "    list_of_columns.append(x['name'])\n",
    "\n",
    "list_of_values = result['data']\n",
    "df = pd.DataFrame(list_of_values, columns =list_of_columns)\n",
    "\n",
    "df.drop(['sid', 'id', 'position', 'created_at', 'created_meta', \n",
    "        'updated_at', 'updated_meta', 'meta'], axis = 1, inplace = True)\n",
    "df['Year'] = df['When'].str[0:4]\n",
    "\n",
    "df.to_csv('weekly_earnings_yr.csv', index=False)"
   ]
  },
  {
   "cell_type": "code",
   "execution_count": 220,
   "metadata": {},
   "outputs": [],
   "source": [
    "#read consumer index information and consolidate average consumer and housing indices together\n",
    "#in a single csv file to act as data source for linear regression check.\n",
    "df = pd.read_csv('consumer_index.csv')\n",
    "\n",
    "df['Year'] = df['date'].str[0:4]\n",
    "\n",
    "df['Year'] = df['Year'].convert_dtypes(int)\n",
    "\n",
    "df = df[df['unit'] == 'Index, 2002=100']\n",
    "\n",
    "lst_YR = df['Year'].unique().tolist()\n",
    "\n",
    "df_temp = pd.DataFrame() \n",
    "\n",
    "lst_MEAN = []\n",
    "\n",
    "for x in lst_YR:\n",
    "    df_temp = df[df['Year'] == x]\n",
    "    lst_MEAN.append(round(df_temp['index_value'].mean(),2))\n",
    "\n",
    "lst_YR = [int(i) for i in lst_YR]\n",
    "\n",
    "df_REP = pd.read_csv('real_estate_prices_avg.csv')\n",
    "\n",
    "lst_REP = []\n",
    "\n",
    "lst_REP = df_REP['Composite_HPI']\n",
    "\n",
    "i = 0\n",
    "\n",
    "while i < 21:\n",
    "    lst_YR.pop(0)\n",
    "    lst_MEAN.pop(0)\n",
    "    i += 1\n",
    "    \n",
    "df_AVG = pd.DataFrame(\n",
    "        {'Year': lst_YR,\n",
    "         'avg_consumer_index': lst_MEAN,\n",
    "         'Composite_HPI': lst_REP\n",
    "        })\n",
    "\n",
    "df_AVG.to_csv('consumer_index_&_HPI.csv', index=False)"
   ]
  },
  {
   "cell_type": "code",
   "execution_count": 26,
   "metadata": {},
   "outputs": [],
   "source": [
    "#read real estate price information and consolidate averages on country and district level \n",
    "#and on yearly basis as data source for housing index and pricing analysis.\n",
    "xlsx = pd.ExcelFile('real_estate_prices.xlsx')\n",
    "\n",
    "dict_df_read = {}\n",
    "dict_df_write = {}\n",
    "\n",
    "for sheet_name in xlsx.sheet_names:\n",
    "    dict_df_read[sheet_name] = pd.read_excel('real_estate_prices.xlsx', sheet_name=sheet_name)\n",
    "    dict_df_read[sheet_name]['Year'] =dict_df_read[sheet_name]['Date'].dt.year\n",
    "    lst_YR = dict_df_read[sheet_name]['Year'].unique().tolist()\n",
    "    df_temp = pd.DataFrame() \n",
    "    df_sheet = pd.DataFrame()\n",
    "    for x in lst_YR:\n",
    "        df_temp = dict_df_read[sheet_name][dict_df_read[sheet_name]['Year'] == x]\n",
    "        df_sheet = df_sheet.append(df_temp.mean(), ignore_index=True)\n",
    "        \n",
    "    dict_df_write[sheet_name] = df_sheet\n",
    "    dict_df_write[sheet_name] = dict_df_write[sheet_name].round(2)\n",
    "    dict_df_write[sheet_name]['Year'] = dict_df_write[sheet_name]['Year'].astype(int)\n",
    "    \n",
    "with pd.ExcelWriter('real_estate_prices_avg.xlsx') as writer:\n",
    "    for sheet_name in xlsx.sheet_names:\n",
    "        dict_df_write[sheet_name].to_excel(writer, sheet_name=sheet_name, index=False)"
   ]
  }
 ],
 "metadata": {
  "kernelspec": {
   "display_name": "Python 3 (ipykernel)",
   "language": "python",
   "name": "python3"
  },
  "language_info": {
   "codemirror_mode": {
    "name": "ipython",
    "version": 3
   },
   "file_extension": ".py",
   "mimetype": "text/x-python",
   "name": "python",
   "nbconvert_exporter": "python",
   "pygments_lexer": "ipython3",
   "version": "3.8.15"
  }
 },
 "nbformat": 4,
 "nbformat_minor": 4
}
