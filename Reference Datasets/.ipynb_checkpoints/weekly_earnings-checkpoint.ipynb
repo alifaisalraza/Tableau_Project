{
 "cells": [
  {
   "cell_type": "markdown",
   "metadata": {},
   "source": [
    "# weekly_earnings"
   ]
  },
  {
   "cell_type": "markdown",
   "metadata": {},
   "source": [
    "Send a request to CityBikes for the city of your choice. "
   ]
  },
  {
   "cell_type": "code",
   "execution_count": 2,
   "metadata": {},
   "outputs": [],
   "source": [
    "import json\n",
    "import pandas as pd\n",
    "import warnings\n",
    "warnings.filterwarnings('ignore')"
   ]
  },
  {
   "cell_type": "code",
   "execution_count": 79,
   "metadata": {},
   "outputs": [],
   "source": [
    "with open(\"weekly_earnings.json\", \"r\") as read_file:\n",
    "    result = json.load(read_file)"
   ]
  },
  {
   "cell_type": "code",
   "execution_count": 128,
   "metadata": {},
   "outputs": [],
   "source": [
    "#read weekly earnings from json file and consolidate into csv format to act as data source.\n",
    "list_of_columns = []\n",
    "dict_of_columns = result['meta']['view']['columns']\n",
    "for x in dict_of_columns:\n",
    "    list_of_columns.append(x['name'])\n",
    "\n",
    "list_of_values = result['data']\n",
    "df = pd.DataFrame(list_of_values, columns =list_of_columns)\n",
    "\n",
    "df.drop(['sid', 'id', 'position', 'created_at', 'created_meta', \n",
    "        'updated_at', 'updated_meta', 'meta'], axis = 1, inplace = True)\n",
    "df['Year'] = df['When'].str[0:4]\n",
    "\n",
    "df.to_csv('weekly_earnings_yr.csv', index=False)"
   ]
  },
  {
   "cell_type": "code",
   "execution_count": null,
   "metadata": {},
   "outputs": [],
   "source": [
    "#read consumer index information, select 2002 index as baseline and calculate index average\n",
    "#over the years using the baseline.\n",
    "df = pd.read_csv('consumer_index.csv')\n",
    "\n",
    "df['Year'] = df['date'].str[0:4]\n",
    "\n",
    "df['Year'] = df['Year'].convert_dtypes(int)\n",
    "\n",
    "df = df[df['unit'] == 'Index, 2002=100']\n",
    "\n",
    "lst_YR = df['Year'].unique().tolist()\n",
    "\n",
    "df_temp = pd.DataFrame() \n",
    "\n",
    "lst_MEAN = []\n",
    "\n",
    "for x in lst_YR:\n",
    "    df_temp = df[df['Year'] == x]\n",
    "    lst_MEAN.append(round(df_temp['index_value'].mean(),2))\n",
    "\n",
    "lst_YR = [int(i) for i in lst_YR]\n",
    "\n",
    "df_AVG = pd.DataFrame(\n",
    "        {'Year': lst_YR,\n",
    "         'avg_consumer_index': lst_MEAN,\n",
    "        })\n",
    "\n",
    "df_AVG.to_csv('consumer_index_avg.csv', index=False)"
   ]
  },
  {
   "cell_type": "code",
   "execution_count": 220,
   "metadata": {},
   "outputs": [],
   "source": [
    "#read consumer index information and consolidate consumer index and housing i\n",
    "df = pd.read_csv('consumer_index.csv')\n",
    "\n",
    "df['Year'] = df['date'].str[0:4]\n",
    "\n",
    "df['Year'] = df['Year'].convert_dtypes(int)\n",
    "\n",
    "df = df[df['unit'] == 'Index, 2002=100']\n",
    "\n",
    "lst_YR = df['Year'].unique().tolist()\n",
    "\n",
    "df_temp = pd.DataFrame() \n",
    "\n",
    "lst_MEAN = []\n",
    "\n",
    "for x in lst_YR:\n",
    "    df_temp = df[df['Year'] == x]\n",
    "    lst_MEAN.append(round(df_temp['index_value'].mean(),2))\n",
    "\n",
    "lst_YR = [int(i) for i in lst_YR]\n",
    "\n",
    "df_REP = pd.read_csv('real_estate_prices_avg.csv')\n",
    "\n",
    "lst_REP = []\n",
    "\n",
    "lst_REP = df_REP['Composite_HPI']\n",
    "\n",
    "i = 0\n",
    "\n",
    "while i < 21:\n",
    "    lst_YR.pop(0)\n",
    "    lst_MEAN.pop(0)\n",
    "    i += 1\n",
    "    \n",
    "df_AVG = pd.DataFrame(\n",
    "        {'Year': lst_YR,\n",
    "         'avg_consumer_index': lst_MEAN,\n",
    "         'Composite_HPI': lst_REP\n",
    "        })\n",
    "\n",
    "df_AVG.to_csv('consumer_index_&_HPI.csv', index=False)"
   ]
  },
  {
   "cell_type": "code",
   "execution_count": 23,
   "metadata": {},
   "outputs": [],
   "source": [
    "import openpyxl"
   ]
  },
  {
   "cell_type": "code",
   "execution_count": 26,
   "metadata": {},
   "outputs": [],
   "source": [
    "#read the real estate price information and consolidate averages on country and district level \n",
    "#to create yearly information as data source for analysis.\n",
    "xlsx = pd.ExcelFile('real_estate_prices.xlsx')\n",
    "\n",
    "dict_df_read = {}\n",
    "dict_df_write = {}\n",
    "\n",
    "for sheet_name in xlsx.sheet_names:\n",
    "    dict_df_read[sheet_name] = pd.read_excel('real_estate_prices.xlsx', sheet_name=sheet_name)\n",
    "    dict_df_read[sheet_name]['Year'] =dict_df_read[sheet_name]['Date'].dt.year\n",
    "    lst_YR = dict_df_read[sheet_name]['Year'].unique().tolist()\n",
    "    df_temp = pd.DataFrame() \n",
    "    df_sheet = pd.DataFrame()\n",
    "    for x in lst_YR:\n",
    "        df_temp = dict_df_read[sheet_name][dict_df_read[sheet_name]['Year'] == x]\n",
    "        df_sheet = df_sheet.append(df_temp.mean(), ignore_index=True)\n",
    "        \n",
    "    dict_df_write[sheet_name] = df_sheet\n",
    "    dict_df_write[sheet_name] = dict_df_write[sheet_name].round(2)\n",
    "    dict_df_write[sheet_name]['Year'] = dict_df_write[sheet_name]['Year'].astype(int)\n",
    "    \n",
    "with pd.ExcelWriter('real_estate_prices_avg.xlsx') as writer:\n",
    "    for sheet_name in xlsx.sheet_names:\n",
    "        dict_df_write[sheet_name].to_excel(writer, sheet_name=sheet_name, index=False)"
   ]
  },
  {
   "cell_type": "code",
   "execution_count": 21,
   "metadata": {},
   "outputs": [
    {
     "ename": "AttributeError",
     "evalue": "'dict' object has no attribute 'to_excel'",
     "output_type": "error",
     "traceback": [
      "\u001b[0;31m---------------------------------------------------------------------------\u001b[0m",
      "\u001b[0;31mAttributeError\u001b[0m                            Traceback (most recent call last)",
      "Cell \u001b[0;32mIn[21], line 1\u001b[0m\n\u001b[0;32m----> 1\u001b[0m \u001b[43mdict_df_write\u001b[49m\u001b[38;5;241;43m.\u001b[39;49m\u001b[43mto_excel\u001b[49m(\u001b[38;5;124m'\u001b[39m\u001b[38;5;124mreal_estate_prices_avg.xlsx\u001b[39m\u001b[38;5;124m'\u001b[39m, sheet_name\u001b[38;5;241m=\u001b[39m\u001b[38;5;124m'\u001b[39m\u001b[38;5;124mAggregate\u001b[39m\u001b[38;5;124m'\u001b[39m)\n\u001b[1;32m      3\u001b[0m \u001b[38;5;28;01mwith\u001b[39;00m pd\u001b[38;5;241m.\u001b[39mExcelWriter(\u001b[38;5;124m'\u001b[39m\u001b[38;5;124mreal_estate_prices_avg.xlsx\u001b[39m\u001b[38;5;124m'\u001b[39m) \u001b[38;5;28;01mas\u001b[39;00m writer:\n\u001b[1;32m      4\u001b[0m     \u001b[38;5;28;01mfor\u001b[39;00m sheet_name \u001b[38;5;129;01min\u001b[39;00m xlsx\u001b[38;5;241m.\u001b[39msheet_names:\n",
      "\u001b[0;31mAttributeError\u001b[0m: 'dict' object has no attribute 'to_excel'"
     ]
    }
   ],
   "source": []
  },
  {
   "cell_type": "code",
   "execution_count": 53,
   "metadata": {},
   "outputs": [
    {
     "ename": "ValueError",
     "evalue": "Date is not a valid coordinate or range",
     "output_type": "error",
     "traceback": [
      "\u001b[0;31m---------------------------------------------------------------------------\u001b[0m",
      "\u001b[0;31mValueError\u001b[0m                                Traceback (most recent call last)",
      "Cell \u001b[0;32mIn[53], line 4\u001b[0m\n\u001b[1;32m      1\u001b[0m wb \u001b[38;5;241m=\u001b[39m openpyxl\u001b[38;5;241m.\u001b[39mload_workbook(\u001b[38;5;124m'\u001b[39m\u001b[38;5;124mreal_estate_prices.xlsx\u001b[39m\u001b[38;5;124m'\u001b[39m)\n\u001b[1;32m      3\u001b[0m \u001b[38;5;28;01mfor\u001b[39;00m sheet \u001b[38;5;129;01min\u001b[39;00m wb\u001b[38;5;241m.\u001b[39mworksheets:\n\u001b[0;32m----> 4\u001b[0m     sheet[\u001b[38;5;124m'\u001b[39m\u001b[38;5;124mYear\u001b[39m\u001b[38;5;124m'\u001b[39m] \u001b[38;5;241m=\u001b[39m \u001b[43msheet\u001b[49m\u001b[43m[\u001b[49m\u001b[38;5;124;43m'\u001b[39;49m\u001b[38;5;124;43mDate\u001b[39;49m\u001b[38;5;124;43m'\u001b[39;49m\u001b[43m]\u001b[49m\u001b[38;5;241m.\u001b[39mdt\u001b[38;5;241m.\u001b[39myear\n\u001b[1;32m      5\u001b[0m     lst_YR \u001b[38;5;241m=\u001b[39m df_REP[\u001b[38;5;124m'\u001b[39m\u001b[38;5;124mYear\u001b[39m\u001b[38;5;124m'\u001b[39m]\u001b[38;5;241m.\u001b[39munique()\u001b[38;5;241m.\u001b[39mtolist()\n\u001b[1;32m      6\u001b[0m     df_temp \u001b[38;5;241m=\u001b[39m pd\u001b[38;5;241m.\u001b[39mDataFrame() \n",
      "File \u001b[0;32m/opt/homebrew/Caskroom/miniforge/base/envs/base_env/lib/python3.8/site-packages/openpyxl/worksheet/worksheet.py:295\u001b[0m, in \u001b[0;36mWorksheet.__getitem__\u001b[0;34m(self, key)\u001b[0m\n\u001b[1;32m    292\u001b[0m \u001b[38;5;28;01mif\u001b[39;00m \u001b[38;5;28misinstance\u001b[39m(key, \u001b[38;5;28mint\u001b[39m):\n\u001b[1;32m    293\u001b[0m     key \u001b[38;5;241m=\u001b[39m \u001b[38;5;28mstr\u001b[39m(key\n\u001b[1;32m    294\u001b[0m               )\n\u001b[0;32m--> 295\u001b[0m min_col, min_row, max_col, max_row \u001b[38;5;241m=\u001b[39m \u001b[43mrange_boundaries\u001b[49m\u001b[43m(\u001b[49m\u001b[43mkey\u001b[49m\u001b[43m)\u001b[49m\n\u001b[1;32m    297\u001b[0m \u001b[38;5;28;01mif\u001b[39;00m \u001b[38;5;129;01mnot\u001b[39;00m \u001b[38;5;28many\u001b[39m([min_col, min_row, max_col, max_row]):\n\u001b[1;32m    298\u001b[0m     \u001b[38;5;28;01mraise\u001b[39;00m \u001b[38;5;167;01mIndexError\u001b[39;00m(\u001b[38;5;124m\"\u001b[39m\u001b[38;5;132;01m{0}\u001b[39;00m\u001b[38;5;124m is not a valid coordinate or range\u001b[39m\u001b[38;5;124m\"\u001b[39m\u001b[38;5;241m.\u001b[39mformat(key))\n",
      "File \u001b[0;32m/opt/homebrew/Caskroom/miniforge/base/envs/base_env/lib/python3.8/site-packages/openpyxl/utils/cell.py:135\u001b[0m, in \u001b[0;36mopenpyxl.utils.cell.range_boundaries\u001b[0;34m()\u001b[0m\n",
      "\u001b[0;31mValueError\u001b[0m: Date is not a valid coordinate or range"
     ]
    }
   ],
   "source": [
    "wb = openpyxl.load_workbook('real_estate_prices.xlsx')\n",
    "\n",
    "for sheet in wb.worksheets:\n",
    "    sheet['Year'] = sheet['Date'].dt.year`\n",
    "    lst_YR = df_REP['Year'].unique().tolist()\n",
    "    df_temp = pd.DataFrame() \n",
    "    df_AVG = pd.DataFrame() \n",
    "    for x in lst:\n",
    "        df_temp = sheet[sheet['Year'] == x]\n",
    "        df_AVG = df_AVG.append(df_temp.mean(), ignore_index=True)\n",
    "    df_AVG = df_REP_AVG.round(2)\n",
    "    df_AVG['Year'] = df_REP_AVG['Year'].astype(int)\n",
    "    df_AVG.info()"
   ]
  }
 ],
 "metadata": {
  "kernelspec": {
   "display_name": "Python 3 (ipykernel)",
   "language": "python",
   "name": "python3"
  },
  "language_info": {
   "codemirror_mode": {
    "name": "ipython",
    "version": 3
   },
   "file_extension": ".py",
   "mimetype": "text/x-python",
   "name": "python",
   "nbconvert_exporter": "python",
   "pygments_lexer": "ipython3",
   "version": "3.8.15"
  }
 },
 "nbformat": 4,
 "nbformat_minor": 4
}
